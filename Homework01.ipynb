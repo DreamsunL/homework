{
 "cells": [
  {
   "cell_type": "markdown",
   "metadata": {},
   "source": [
    "Homework 01\n",
    "10224507036 秦兆雨"
   ]
  },
  {
   "cell_type": "markdown",
   "metadata": {},
   "source": [
    "1.编写Python程序，打印\"数据科学与工程导论\"，并使用 print(chr(0x2605)) 语句将这句话包围起来。"
   ]
  },
  {
   "cell_type": "code",
   "execution_count": 4,
   "metadata": {},
   "outputs": [
    {
     "name": "stdout",
     "output_type": "stream",
     "text": [
      "★★★★★★★★★★★\n",
      "★数据科学与工程导论★\n",
      "★★★★★★★★★★★\n"
     ]
    }
   ],
   "source": [
    "text = \"数据科学与工程导论\"\n",
    "star = chr(0x2605)\n",
    "print(star * (len(text)+2))\n",
    "print(star + text + star)\n",
    "print(star * (len(text)+2))"
   ]
  },
  {
   "cell_type": "markdown",
   "metadata": {},
   "source": [
    "2.写一个 Python 程序，输入 x, y, z 这三个数，将这三个数从小到大使用 print 函数打印出来。"
   ]
  },
  {
   "cell_type": "code",
   "execution_count": 1,
   "metadata": {},
   "outputs": [
    {
     "name": "stdout",
     "output_type": "stream",
     "text": [
      "33\n",
      "1111\n",
      "2222\n"
     ]
    }
   ],
   "source": [
    "x = int(input(\"请输入第一个数字 x: \"))\n",
    "y = int(input(\"请输入第二个数字 y: \"))\n",
    "z = int(input(\"请输入第三个数字 z: \"))\n",
    "\n",
    "numbers = [x, y, z]\n",
    "\n",
    "sorted_numbers = sorted(numbers)\n",
    "\n",
    "for number in sorted_numbers:\n",
    "    print(number)"
   ]
  },
  {
   "cell_type": "markdown",
   "metadata": {},
   "source": [
    "3.写一个 Python 程序，有 w, x, y, z 四个数，将这四个数从大到小使用 print 函数打印出来。"
   ]
  },
  {
   "cell_type": "code",
   "execution_count": 7,
   "metadata": {},
   "outputs": [
    {
     "name": "stdout",
     "output_type": "stream",
     "text": [
      "648\n",
      "512\n",
      "8\n",
      "2\n"
     ]
    }
   ],
   "source": [
    "x = int(input(\"请输入第一个数字 x: \"))\n",
    "y = int(input(\"请输入第二个数字 y: \"))\n",
    "z = int(input(\"请输入第三个数字 z: \"))\n",
    "w = int(input(\"请输入第四个数字 w: \"))\n",
    "\n",
    "numbers = [x, y, z, w]\n",
    "\n",
    "sorted_numbers = sorted(numbers,reverse=True)\n",
    "\n",
    "for number in sorted_numbers:\n",
    "    print(number)"
   ]
  },
  {
   "cell_type": "markdown",
   "metadata": {},
   "source": [
    "4.写一个 Python 程序，输出 1-100 中的所有奇数。"
   ]
  },
  {
   "cell_type": "code",
   "execution_count": 8,
   "metadata": {},
   "outputs": [
    {
     "name": "stdout",
     "output_type": "stream",
     "text": [
      "1\n",
      "3\n",
      "5\n",
      "7\n",
      "9\n",
      "11\n",
      "13\n",
      "15\n",
      "17\n",
      "19\n",
      "21\n",
      "23\n",
      "25\n",
      "27\n",
      "29\n",
      "31\n",
      "33\n",
      "35\n",
      "37\n",
      "39\n",
      "41\n",
      "43\n",
      "45\n",
      "47\n",
      "49\n",
      "51\n",
      "53\n",
      "55\n",
      "57\n",
      "59\n",
      "61\n",
      "63\n",
      "65\n",
      "67\n",
      "69\n",
      "71\n",
      "73\n",
      "75\n",
      "77\n",
      "79\n",
      "81\n",
      "83\n",
      "85\n",
      "87\n",
      "89\n",
      "91\n",
      "93\n",
      "95\n",
      "97\n",
      "99\n"
     ]
    }
   ],
   "source": [
    "for number in range(1,101):\n",
    "    if number%2!=0:\n",
    "        print(number)"
   ]
  },
  {
   "cell_type": "markdown",
   "metadata": {},
   "source": [
    "5.写一个 Python 程序，用 for 循环，求解 1 到 100 的和。"
   ]
  },
  {
   "cell_type": "code",
   "execution_count": 9,
   "metadata": {},
   "outputs": [
    {
     "name": "stdout",
     "output_type": "stream",
     "text": [
      "5050\n"
     ]
    }
   ],
   "source": [
    "sum=0\n",
    "for number in range(1,101):\n",
    "    sum+=number\n",
    "print(sum)"
   ]
  },
  {
   "cell_type": "markdown",
   "metadata": {},
   "source": [
    "6.写一个 Python 程序，分别用 for 和 while 循环实现对一个给定序列的倒排序输出。例如，给定 L=[1,2,3,4,5]，输出为 [5,4,3,2,1]。\n"
   ]
  },
  {
   "cell_type": "code",
   "execution_count": null,
   "metadata": {},
   "outputs": [
    {
     "name": "stdout",
     "output_type": "stream",
     "text": [
      "Reversed with for loop: [5, 4, 3, 2, 1]\n",
      "Reversed with while loop: [5, 4, 3, 2, 1]\n"
     ]
    }
   ],
   "source": [
    "def reverse_with_for(L):\n",
    "    reversed_list = []\n",
    "    for i in range(len(L) - 1, -1, -1):\n",
    "        reversed_list.append(L[i])\n",
    "    return reversed_list\n",
    "\n",
    "def reverse_with_while(L):\n",
    "    reversed_list = []\n",
    "    temp = list(L)  \n",
    "    while temp:\n",
    "        reversed_list.append(temp.pop())\n",
    "    return reversed_list\n",
    "\n",
    "L = [1, 2, 3, 4, 5]\n",
    "\n",
    "print(\"Reversed with for loop:\", reverse_with_for(L))\n",
    "print(\"Reversed with while loop:\", reverse_with_while(L))"
   ]
  },
  {
   "cell_type": "markdown",
   "metadata": {},
   "source": [
    "7.写一个 Python 程序，判断一个输入的字符串 S 是否包含由两个或两个以上连续出现的相同字符组成的字符串。例如，abccccda 中就包含 cccc 这个由 4 个连续字符组成的字符串。"
   ]
  },
  {
   "cell_type": "code",
   "execution_count": 8,
   "metadata": {},
   "outputs": [
    {
     "name": "stdout",
     "output_type": "stream",
     "text": [
      "asjkdhadadaa True\n"
     ]
    }
   ],
   "source": [
    "def has_consecutive_chars(s, threshold=2):\n",
    "    if len(s) < threshold:\n",
    "        return False\n",
    "    \n",
    "    count = 1\n",
    "    for i in range(1, len(s)):\n",
    "        if s[i] == s[i-1]:\n",
    "            count += 1\n",
    "            if count >= threshold:\n",
    "                return True\n",
    "        else:\n",
    "            count = 1\n",
    "    \n",
    "    return False\n",
    "\n",
    "x = input()\n",
    "result = has_consecutive_chars(x)\n",
    "print(x,result)"
   ]
  },
  {
   "cell_type": "markdown",
   "metadata": {},
   "source": [
    "8.写一个 Python 程序，输入一个字符串 S，去掉其中所有的空格后输出。例如，“DataScience and Engineering”，去掉空格后为“DataScienceandEngineering”。"
   ]
  },
  {
   "cell_type": "code",
   "execution_count": 9,
   "metadata": {},
   "outputs": [
    {
     "name": "stdout",
     "output_type": "stream",
     "text": [
      "去掉空格后的字符串为： fhsfksffsfksfsfsfsfs\n"
     ]
    }
   ],
   "source": [
    "def main():\n",
    "    S = input()\n",
    "    no_spaces_string = S.replace(\" \", \"\")\n",
    "    print(\"去掉空格后的字符串为：\", no_spaces_string)\n",
    "\n",
    "if __name__ == \"__main__\":\n",
    "    main()"
   ]
  },
  {
   "cell_type": "markdown",
   "metadata": {},
   "source": [
    "9.请设计一个求 3 次方根的算法（不允许直接调用求方根的函数），并给出对应的 Python 程序。 采用牛顿迭代法求解，迭代过程数学公式表示为：<math xmlns=\"http://www.w3.org/1998/Math/MathML\">\n",
    "  <msub>\n",
    "    <mi>x</mi>\n",
    "    <mrow data-mjx-texclass=\"ORD\">\n",
    "      <mi>n</mi>\n",
    "      <mo>+</mo>\n",
    "      <mn>1</mn>\n",
    "    </mrow>\n",
    "  </msub>\n",
    "  <mo>=</mo>\n",
    "  <msub>\n",
    "    <mi>x</mi>\n",
    "    <mi>n</mi>\n",
    "  </msub>\n",
    "  <mo>&#x2212;</mo>\n",
    "  <mfrac>\n",
    "    <mrow>\n",
    "      <mi>f</mi>\n",
    "      <mo stretchy=\"false\">(</mo>\n",
    "      <msub>\n",
    "        <mi>x</mi>\n",
    "        <mi>n</mi>\n",
    "      </msub>\n",
    "      <mo stretchy=\"false\">)</mo>\n",
    "    </mrow>\n",
    "    <mrow>\n",
    "      <msup>\n",
    "        <mi>f</mi>\n",
    "        <mrow data-mjx-texclass=\"ORD\">\n",
    "          <mi data-mjx-alternate=\"1\">&#x2032;</mi>\n",
    "        </mrow>\n",
    "      </msup>\n",
    "      <mo stretchy=\"false\">(</mo>\n",
    "      <msub>\n",
    "        <mi>x</mi>\n",
    "        <mi>n</mi>\n",
    "      </msub>\n",
    "      <mo stretchy=\"false\">)</mo>\n",
    "    </mrow>\n",
    "  </mfrac>\n",
    "</math> \n"
   ]
  },
  {
   "cell_type": "code",
   "execution_count": 10,
   "metadata": {},
   "outputs": [
    {
     "name": "stdout",
     "output_type": "stream",
     "text": [
      "9.0 的立方根近似为: 2.080083823051904\n"
     ]
    }
   ],
   "source": [
    "def cubic_root_newton(a, epsilon=1e-7, max_iter=1000):\n",
    "    if a == 0:\n",
    "        return 0\n",
    "    \n",
    "    x_n = 1.0 if a > 0 else -1.0\n",
    "    \n",
    "    for _ in range(max_iter):\n",
    "        x_next = (1/3) * (2*x_n + a / (x_n * x_n))\n",
    "        \n",
    "        if abs(x_next - x_n) < epsilon:\n",
    "            return x_next\n",
    "        \n",
    "        x_n = x_next\n",
    "    \n",
    "    print(\"!\")\n",
    "    return x_n\n",
    "\n",
    "# 测试代码\n",
    "if __name__ == \"__main__\":\n",
    "    a = float(input())\n",
    "    root = cubic_root_newton(a)\n",
    "    print(f\"{a} 的立方根近似为: {root}\")"
   ]
  },
  {
   "cell_type": "markdown",
   "metadata": {},
   "source": [
    "10.写一个 Python 程序，给定一个常数 n（n>0），求 n 的阶乘，即 n!=1×2×...×(n-1)×n。例如，4!=24，5!=120。"
   ]
  },
  {
   "cell_type": "code",
   "execution_count": 11,
   "metadata": {},
   "outputs": [
    {
     "name": "stdout",
     "output_type": "stream",
     "text": [
      "5! = 120\n"
     ]
    }
   ],
   "source": [
    "def factorial_iterative(n):\n",
    "    result = 1\n",
    "    for i in range(1, n + 1):\n",
    "        result *= i\n",
    "    return result\n",
    "\n",
    "if __name__ == \"__main__\":\n",
    "    n = int(input())\n",
    "    print(f\"{n}! = {factorial_iterative(n)}\")"
   ]
  }
 ],
 "metadata": {
  "kernelspec": {
   "display_name": "Python 3",
   "language": "python",
   "name": "python3"
  },
  "language_info": {
   "codemirror_mode": {
    "name": "ipython",
    "version": 3
   },
   "file_extension": ".py",
   "mimetype": "text/x-python",
   "name": "python",
   "nbconvert_exporter": "python",
   "pygments_lexer": "ipython3",
   "version": "3.9.6"
  }
 },
 "nbformat": 4,
 "nbformat_minor": 2
}
