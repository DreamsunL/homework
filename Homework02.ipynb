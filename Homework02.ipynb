{
 "cells": [
  {
   "cell_type": "markdown",
   "metadata": {},
   "source": [
    "Homework 02 10224507036 秦兆雨"
   ]
  },
  {
   "cell_type": "markdown",
   "metadata": {},
   "source": [
    "1.编写 Python 程序，求两个正整数的最大公约数。"
   ]
  },
  {
   "cell_type": "code",
   "execution_count": 2,
   "metadata": {},
   "outputs": [
    {
     "name": "stdout",
     "output_type": "stream",
     "text": [
      "6 和 99 的最大公约数是: 3\n"
     ]
    }
   ],
   "source": [
    "def gcd(a, b):\n",
    "    while b != 0:\n",
    "        a, b = b, a % b\n",
    "    return a\n",
    "\n",
    "if __name__ == \"__main__\":\n",
    "    num1 = int(input(\"请输入第一个正整数: \"))\n",
    "    num2 = int(input(\"请输入第二个正整数: \"))\n",
    "\n",
    "    print(f\"{num1} 和 {num2} 的最大公约数是: {gcd(num1, num2)}\")"
   ]
  },
  {
   "cell_type": "markdown",
   "metadata": {},
   "source": [
    "2.用if语句实现百分制转等级制（考试成绩，60分以下不合格，60—74分合格，75—89分为良好，90分以上为优秀）。"
   ]
  },
  {
   "cell_type": "code",
   "execution_count": 1,
   "metadata": {},
   "outputs": [
    {
     "name": "stdout",
     "output_type": "stream",
     "text": [
      "成绩对应的等级是: 不合格\n"
     ]
    }
   ],
   "source": [
    "def score_to_grade(score):\n",
    "    if score < 60:\n",
    "        grade = \"不合格\"\n",
    "    elif score <= 74:\n",
    "        grade = \"合格\"\n",
    "    elif score <= 89:\n",
    "        grade = \"良好\"\n",
    "    else:  # This means score is 90 or above\n",
    "        grade = \"优秀\"\n",
    "    \n",
    "    return grade\n",
    "\n",
    "if __name__ == \"__main__\":\n",
    "    try:\n",
    "        score = float(input(\"请输入考试成绩（0-100分）：\"))\n",
    "        if 0 <= score <= 100:\n",
    "            print(f\"成绩对应的等级是: {score_to_grade(score)}\")\n",
    "        else:\n",
    "            print(\"错误：输入的成绩不在0到100分之间。\")\n",
    "    except ValueError:\n",
    "        print(\"错误：请输入一个有效的数字。\")"
   ]
  },
  {
   "cell_type": "markdown",
   "metadata": {},
   "source": [
    "3.编写Python程序，完成十进制小数到二进制小数的转换"
   ]
  },
  {
   "cell_type": "code",
   "execution_count": 9,
   "metadata": {},
   "outputs": [
    {
     "name": "stdout",
     "output_type": "stream",
     "text": [
      "Decimal: 4.755 -> Binary: 100.1100000101\n"
     ]
    }
   ],
   "source": [
    "def decimal_to_binary(decimal_number, precision=10):\n",
    "    if not (0 <= decimal_number < 1):\n",
    "        whole, dec = divmod(decimal_number, 1)\n",
    "        whole = int(whole)\n",
    "        frac = decimal_number - whole\n",
    "    else:\n",
    "        whole = 0\n",
    "        frac = decimal_number\n",
    "\n",
    "    binary_whole = bin(whole).replace(\"0b\", \"\") if whole != 0 else \"0\"\n",
    "\n",
    "    binary_frac = \".\"\n",
    "    while frac > 0:\n",
    "        if len(binary_frac) - 1 == precision:\n",
    "            break \n",
    "        frac *= 2\n",
    "        bit = int(frac)\n",
    "        binary_frac += str(bit)\n",
    "        frac -= bit\n",
    "\n",
    "    return binary_whole + binary_frac if binary_frac != \".\" else binary_whole\n",
    "\n",
    "decimal_number = 4.755\n",
    "binary_representation = decimal_to_binary(decimal_number, precision=10)\n",
    "print(f\"Decimal: {decimal_number} -> Binary: {binary_representation}\")"
   ]
  },
  {
   "cell_type": "markdown",
   "metadata": {},
   "source": [
    "4.编写Python程序，产生10-20的随机浮点数"
   ]
  },
  {
   "cell_type": "code",
   "execution_count": 11,
   "metadata": {},
   "outputs": [
    {
     "name": "stdout",
     "output_type": "stream",
     "text": [
      "random float: 19.14300577596277\n"
     ]
    }
   ],
   "source": [
    "import random\n",
    "\n",
    "def generate_random_float(start=10.0, end=20.0):\n",
    "    \"\"\"Generate a random float number between start and end.\"\"\"\n",
    "    return random.uniform(start, end)\n",
    "\n",
    "random_float = generate_random_float()\n",
    "print(f\"random float: {random_float}\")"
   ]
  },
  {
   "cell_type": "markdown",
   "metadata": {},
   "source": [
    "5.编写一个Python函数，判断一个整数是否是回文数。回文数是指正序（从左向右）和倒序（从右向左）读都是一样的数。"
   ]
  },
  {
   "cell_type": "code",
   "execution_count": 17,
   "metadata": {},
   "outputs": [
    {
     "name": "stdout",
     "output_type": "stream",
     "text": [
      "696 True\n"
     ]
    }
   ],
   "source": [
    "def is_palindrome_number(num):\n",
    "    if num < 0:\n",
    "        return False\n",
    "    \n",
    "    str_num = str(num)\n",
    "    \n",
    "    return str_num == str_num[::-1]\n",
    "\n",
    "x = int(input())\n",
    "print(x,is_palindrome_number(x))  \n",
    "  "
   ]
  },
  {
   "cell_type": "markdown",
   "metadata": {},
   "source": [
    "6.编写一个Python函数，返回一个包含斐波那契数列的前N个数的列表。斐波那契数列是一个数列，其中每个数是前两个数的和，数列以0和1开始。"
   ]
  },
  {
   "cell_type": "code",
   "execution_count": 18,
   "metadata": {},
   "outputs": [
    {
     "name": "stdout",
     "output_type": "stream",
     "text": [
      "5 [0, 1, 1, 2, 3]\n"
     ]
    }
   ],
   "source": [
    "def fibonacci(n):\n",
    "    if n <= 0:\n",
    "        return []\n",
    "    elif n == 1:\n",
    "        return [0]\n",
    "    elif n == 2:\n",
    "        return [0, 1]\n",
    "\n",
    "    fib_series = [0, 1]\n",
    "    for i in range(2, n):\n",
    "        next_value = fib_series[-1] + fib_series[-2]\n",
    "        fib_series.append(next_value)\n",
    "    \n",
    "    return fib_series\n",
    "\n",
    "x = int(input())\n",
    "print(x,fibonacci(x))  "
   ]
  },
  {
   "cell_type": "markdown",
   "metadata": {},
   "source": [
    "7.编写一个Python函数，接受一个整数数组作为输入，返回数组中第二大的数。如果数组中只有一个元素或数组为空，则返回-1。"
   ]
  },
  {
   "cell_type": "code",
   "execution_count": 19,
   "metadata": {},
   "outputs": [
    {
     "name": "stdout",
     "output_type": "stream",
     "text": [
      "数组中第二大的数是: 6\n"
     ]
    }
   ],
   "source": [
    "def find_second_largest(nums):\n",
    "    if len(nums) < 2:\n",
    "        return -1\n",
    "\n",
    "    first = second = float('-inf')\n",
    "\n",
    "    for num in nums:\n",
    "        if num > first:\n",
    "            second = first\n",
    "            first = num\n",
    "        elif first > num > second:\n",
    "            second = num\n",
    "\n",
    "    return second if second != float('-inf') else -1\n",
    "\n",
    "def main():\n",
    "    user_input = input()\n",
    "    try:\n",
    "        nums = list(map(int, user_input.split()))\n",
    "    except ValueError:\n",
    "        print(\"输入包含非整数值，请确保只输入整数。\")\n",
    "        return\n",
    "    \n",
    "    result = find_second_largest(nums)\n",
    "    if result == -1:\n",
    "        print(\"无法找到第二大的数。\")\n",
    "    else:\n",
    "        print(f\"数组中第二大的数是: {result}\")\n",
    "\n",
    "if __name__ == \"__main__\":\n",
    "    main()"
   ]
  },
  {
   "cell_type": "markdown",
   "metadata": {},
   "source": [
    "8.编写一个函数，使其能够用正则表达式的方式简单验证身份证号是否合法。"
   ]
  },
  {
   "cell_type": "code",
   "execution_count": 1,
   "metadata": {},
   "outputs": [
    {
     "name": "stdout",
     "output_type": "stream",
     "text": [
      "身份证号码长度必须为18位，请重新输入。\n",
      "\n",
      "身份证号码 533614199911110264 格式正确。\n",
      "\n",
      "身份证号码 533647199911110364 格式正确。\n",
      "\n",
      "程序结束。\n"
     ]
    }
   ],
   "source": [
    "import re\n",
    "\n",
    "def validate_id_card(id_card):\n",
    "    pattern = r'^(?P<area>[1-9]\\d{5})' \\\n",
    "              r'(?P<birth>19\\d{2}(0[1-9]|1[0-2])(0[1-9]|[12]\\d|3[01]))' \\\n",
    "              r'(?P<seq>\\d{3})' \\\n",
    "              r'(?P<check>[0-9X])$'\n",
    "    \n",
    "    if re.match(pattern, id_card):\n",
    "        return True\n",
    "    else:\n",
    "        return False\n",
    "\n",
    "def main():\n",
    "    while True:\n",
    "        user_input = input()\n",
    "        \n",
    "        if user_input.lower() == 'q':\n",
    "            print(\"程序结束。\")\n",
    "            break\n",
    "        \n",
    "        if len(user_input) != 18:\n",
    "            print(\"身份证号码长度必须为18位，请重新输入。\\n\")\n",
    "            continue\n",
    "        \n",
    "        if validate_id_card(user_input):\n",
    "            print(f\"身份证号码 {user_input} 格式正确。\\n\")\n",
    "        else:\n",
    "            print(f\"身份证号码 {user_input} 格式不正确。\\n\")\n",
    "\n",
    "if __name__ == \"__main__\":\n",
    "    main()"
   ]
  }
 ],
 "metadata": {
  "kernelspec": {
   "display_name": "Python 3",
   "language": "python",
   "name": "python3"
  },
  "language_info": {
   "codemirror_mode": {
    "name": "ipython",
    "version": 3
   },
   "file_extension": ".py",
   "mimetype": "text/x-python",
   "name": "python",
   "nbconvert_exporter": "python",
   "pygments_lexer": "ipython3",
   "version": "3.9.6"
  }
 },
 "nbformat": 4,
 "nbformat_minor": 2
}
