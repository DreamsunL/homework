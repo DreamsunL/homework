{
 "cells": [
  {
   "cell_type": "markdown",
   "metadata": {},
   "source": [
    "Homework 03 10224507036 秦兆雨"
   ]
  },
  {
   "cell_type": "markdown",
   "metadata": {},
   "source": [
    "1.编写 Python程序,判断输入a是否为质数"
   ]
  },
  {
   "cell_type": "code",
   "execution_count": 4,
   "metadata": {},
   "outputs": [
    {
     "name": "stdout",
     "output_type": "stream",
     "text": [
      "3 是质数。\n"
     ]
    }
   ],
   "source": [
    "import math\n",
    "\n",
    "def is_prime(a):\n",
    "    \"\"\"Check if the number a is a prime number.\"\"\"\n",
    "    if a <= 1:\n",
    "        return False\n",
    "    if a == 2:\n",
    "        return True  \n",
    "    if a % 2 == 0:\n",
    "        return False  \n",
    "    sqrt_a = int(math.sqrt(a)) + 1\n",
    "    for divisor in range(3, sqrt_a, 2):  \n",
    "        if a % divisor == 0:\n",
    "            return False\n",
    "    return True\n",
    "\n",
    "def main():\n",
    "    try:\n",
    "        user_input = input(\"请输入一个整数: \")\n",
    "        a = int(user_input)\n",
    "        if is_prime(a):\n",
    "            print(f\"{a} 是质数。\")\n",
    "        else:\n",
    "            print(f\"{a} 不是质数。\")\n",
    "    except ValueError:\n",
    "        print(\"输入无效，请输入一个有效的整数。\")\n",
    "        \n",
    "if __name__ == \"__main__\":\n",
    "    main()\n",
    "        "
   ]
  },
  {
   "cell_type": "markdown",
   "metadata": {},
   "source": [
    "2.用Python实现插入排序该算法，不允许直接调用插入排序函数，需要手动实现其逻辑过程。"
   ]
  },
  {
   "cell_type": "code",
   "execution_count": 5,
   "metadata": {},
   "outputs": [
    {
     "name": "stdout",
     "output_type": "stream",
     "text": [
      "原始数组: [3, 6, 4, 5, 8]\n",
      "排序后的数组: [3, 4, 5, 6, 8]\n"
     ]
    }
   ],
   "source": [
    "def insertion_sort(arr):\n",
    "    for i in range(1, len(arr)):\n",
    "        key = arr[i]\n",
    "        j = i - 1\n",
    "        while j >= 0 and key < arr[j]:\n",
    "            arr[j + 1] = arr[j]\n",
    "            j -= 1\n",
    "        arr[j + 1] = key\n",
    "\n",
    "def main():\n",
    "    user_input = input(\"请输入一串用空格分隔的数字: \") \n",
    "    try:\n",
    "        arr = list(map(int, user_input.split()))\n",
    "        print(\"原始数组:\", arr)\n",
    "        insertion_sort(arr)\n",
    "        print(\"排序后的数组:\", arr)\n",
    "    except ValueError:\n",
    "        print(\"输入无效，请确保你输入的是用空格分隔的整数。\")\n",
    "\n",
    "if __name__ == \"__main__\":\n",
    "    main()"
   ]
  },
  {
   "cell_type": "markdown",
   "metadata": {},
   "source": [
    "3.用Python实现选择排序该算法，不允许直接调用插入排序函数，需要手动实现其逻辑过程。"
   ]
  },
  {
   "cell_type": "code",
   "execution_count": 6,
   "metadata": {},
   "outputs": [
    {
     "name": "stdout",
     "output_type": "stream",
     "text": [
      "原始数组: [6, 9, 1, 4, 7, 5]\n",
      "排序后的数组: [1, 4, 5, 6, 7, 9]\n"
     ]
    }
   ],
   "source": [
    "def selection_sort(arr):\n",
    "    n = len(arr)\n",
    "    for i in range(n):\n",
    "        min_index = i\n",
    "        for j in range(i+1, n):\n",
    "            if arr[j] < arr[min_index]:\n",
    "                min_index = j\n",
    "        arr[i], arr[min_index] = arr[min_index], arr[i]\n",
    "\n",
    "def main():\n",
    "    user_input = input(\"请输入一串用空格分隔的整数: \")   \n",
    "    try:\n",
    "        arr = list(map(int, user_input.split()))\n",
    "        print(\"原始数组:\", arr)\n",
    "        selection_sort(arr)\n",
    "        print(\"排序后的数组:\", arr)\n",
    "    except ValueError:\n",
    "        print(\"输入无效，请确保你输入的是用空格分隔的整数。\")\n",
    "\n",
    "if __name__ == \"__main__\":\n",
    "    main()"
   ]
  },
  {
   "cell_type": "markdown",
   "metadata": {},
   "source": [
    "4.用Python实现快速排序该算法，不允许直接调用插入排序函数，需要手动实现其逻辑过程。"
   ]
  },
  {
   "cell_type": "code",
   "execution_count": 7,
   "metadata": {},
   "outputs": [
    {
     "name": "stdout",
     "output_type": "stream",
     "text": [
      "原始数组: [66, 448, 5, 215, 432]\n",
      "排序后的数组: [5, 66, 215, 432, 448]\n"
     ]
    }
   ],
   "source": [
    "def quick_sort(arr):\n",
    "    if len(arr) <= 1:\n",
    "        return arr\n",
    "    else:\n",
    "        pivot = arr[len(arr) // 2]  \n",
    "        left = [x for x in arr if x < pivot] \n",
    "        middle = [x for x in arr if x == pivot]  \n",
    "        right = [x for x in arr if x > pivot]  \n",
    "        return quick_sort(left) + middle + quick_sort(right)\n",
    "\n",
    "def main():\n",
    "    user_input = input(\"请输入一串用空格分隔的整数: \")\n",
    "    try:\n",
    "        arr = list(map(int, user_input.split()))\n",
    "        print(\"原始数组:\", arr)\n",
    "        sorted_arr = quick_sort(arr)\n",
    "        print(\"排序后的数组:\", sorted_arr)\n",
    "    except ValueError:\n",
    "        print(\"输入无效，请确保你输入的是用空格分隔的整数。\")\n",
    "\n",
    "if __name__ == \"__main__\":\n",
    "    main()"
   ]
  },
  {
   "cell_type": "markdown",
   "metadata": {},
   "source": [
    "5.使用 Python 随机生成三组长度递增的随机数列，长度分别为100、1000、10000，对生成的随机数组使用不同的排序算法，例如选择排序和归并排序，至少三种排序方法。对这些数列的数据排序，并分析不同排序算法在不同长度数列下的运行效果，例如运行时间等指标。"
   ]
  },
  {
   "cell_type": "code",
   "execution_count": 8,
   "metadata": {},
   "outputs": [
    {
     "name": "stdout",
     "output_type": "stream",
     "text": [
      "Running Selection Sort...\n",
      "  Length 100: 0.000000 seconds\n",
      "  Length 1000: 0.010459 seconds\n",
      "  Length 10000: 1.119388 seconds\n",
      "Running Merge Sort...\n",
      "  Length 100: 0.000000 seconds\n",
      "  Length 1000: 0.000000 seconds\n",
      "  Length 10000: 0.010424 seconds\n",
      "Running Quick Sort...\n",
      "  Length 100: 0.000000 seconds\n",
      "  Length 1000: 0.009603 seconds\n",
      "  Length 10000: 0.010140 seconds\n",
      "\n",
      "Sorting Time Results (seconds):\n",
      "Selection Sort:\n",
      "  Length 100: 0.000000\n",
      "  Length 1000: 0.010459\n",
      "  Length 10000: 1.119388\n",
      "Merge Sort:\n",
      "  Length 100: 0.000000\n",
      "  Length 1000: 0.000000\n",
      "  Length 10000: 0.010424\n",
      "Quick Sort:\n",
      "  Length 100: 0.000000\n",
      "  Length 1000: 0.009603\n",
      "  Length 10000: 0.010140\n"
     ]
    },
    {
     "data": {
      "image/png": "[encoded data removed]",
      "text/plain": [
       "<Figure size 1000x600 with 1 Axes>"
      ]
     },
     "metadata": {},
     "output_type": "display_data"
    }
   ],
   "source": [
    "import random\n",
    "import time\n",
    "import matplotlib.pyplot as plt\n",
    "\n",
    "def selection_sort(arr):\n",
    "    for i in range(len(arr)):\n",
    "        min_index = i\n",
    "        for j in range(i+1, len(arr)):\n",
    "            if arr[j] < arr[min_index]:\n",
    "                min_index = j\n",
    "        arr[i], arr[min_index] = arr[min_index], arr[i]\n",
    "\n",
    "def merge_sort(arr):\n",
    "    if len(arr) <= 1:\n",
    "        return arr\n",
    "    mid = len(arr) // 2\n",
    "    left = merge_sort(arr[:mid])\n",
    "    right = merge_sort(arr[mid:])\n",
    "    return merge(left, right)\n",
    "\n",
    "def merge(left, right):\n",
    "    result = []\n",
    "    i = j = 0\n",
    "    while i < len(left) and j < len(right):\n",
    "        if left[i] <= right[j]:\n",
    "            result.append(left[i])\n",
    "            i += 1\n",
    "        else:\n",
    "            result.append(right[j])\n",
    "            j += 1\n",
    "    result.extend(left[i:])\n",
    "    result.extend(right[j:])\n",
    "    return result\n",
    "\n",
    "def quick_sort(arr):\n",
    "    if len(arr) <= 1:\n",
    "        return arr\n",
    "    pivot = arr[len(arr) // 2]\n",
    "    left = [x for x in arr if x < pivot]\n",
    "    middle = [x for x in arr if x == pivot]\n",
    "    right = [x for x in arr if x > pivot]\n",
    "    return quick_sort(left) + middle + quick_sort(right)\n",
    "\n",
    "def measure_time(sort_function, arr):\n",
    "    start_time = time.time()\n",
    "    sort_function(arr.copy())  \n",
    "    end_time = time.time()\n",
    "    return end_time - start_time\n",
    "\n",
    "def plot_results(results):\n",
    "    lengths = sorted(list(next(iter(results.values())).keys()))\n",
    "    plt.figure(figsize=(10, 6))\n",
    "    \n",
    "    for name, times in results.items():\n",
    "        plt.plot(lengths, [times[length] for length in lengths], marker='o', label=name)\n",
    "    \n",
    "    plt.title('Sorting Algorithm Performance')\n",
    "    plt.xlabel('Length of Array')\n",
    "    plt.ylabel('Time (seconds)')\n",
    "    plt.xscale('log')  \n",
    "    plt.yscale('log') \n",
    "    plt.legend()\n",
    "    plt.grid(True, which=\"both\", ls=\"--\")\n",
    "    plt.show()\n",
    "\n",
    "if __name__ == \"__main__\":\n",
    "    lengths = [100, 1000, 10000]\n",
    "    algorithms = {\n",
    "        'Selection Sort': selection_sort,\n",
    "        'Merge Sort': merge_sort,\n",
    "        'Quick Sort': quick_sort\n",
    "    }\n",
    "\n",
    "    datasets = {length: [random.randint(0, length*10) for _ in range(length)] for length in lengths}\n",
    "\n",
    "    results = {}\n",
    "    for name, algorithm in algorithms.items():\n",
    "        print(f\"Running {name}...\")\n",
    "        for length, dataset in datasets.items():\n",
    "            elapsed_time = measure_time(algorithm, dataset)\n",
    "            results.setdefault(name, {})[length] = elapsed_time\n",
    "            print(f\"  Length {length}: {elapsed_time:.6f} seconds\")\n",
    "\n",
    "    print(\"\\nSorting Time Results (seconds):\")\n",
    "    for algo_name, times in results.items():\n",
    "        print(f\"{algo_name}:\")\n",
    "        for length, time_taken in times.items():\n",
    "            print(f\"  Length {length}: {time_taken:.6f}\")\n",
    "    \n",
    "    plot_results(results)"
   ]
  },
  {
   "cell_type": "markdown",
   "metadata": {},
   "source": [
    "6.使用python代码获取当前系统时间"
   ]
  },
  {
   "cell_type": "code",
   "execution_count": null,
   "metadata": {},
   "outputs": [],
   "source": [
    "from datetime import datetime\n",
    "now = datetime.now()\n",
    "formatted_date = now.strftime(\"%Y-%m-%d %H:%M:%S\")\n",
    "print(\"当前系统时间为:\", formatted_date)"
   ]
  },
  {
   "cell_type": "markdown",
   "metadata": {},
   "source": [
    "7.homework/data文件夹下的stuGrade.csv文件中包含5位同学的学号、语文成绩、数学成绩和英语成绩，请先用记事本打开该文件，查看文件内容，然后编写Python程序，读取该文件，并计算出各科的平均成绩（保留2位小数）。"
   ]
  },
  {
   "cell_type": "code",
   "execution_count": 10,
   "metadata": {},
   "outputs": [
    {
     "name": "stdout",
     "output_type": "stream",
     "text": [
      "各科平均成绩如下：\n",
      "Chinese: 82.60\n",
      "Math: 81.00\n",
      "English: 81.80\n"
     ]
    }
   ],
   "source": [
    "import csv\n",
    "\n",
    "file_path = 'D:/stuGrade.csv'\n",
    "subject_totals = {'chinese': 0, 'math': 0, 'english': 0}\n",
    "student_count = 0\n",
    "\n",
    "with open(file_path, mode='r', encoding='utf-8') as file:\n",
    "    reader = csv.DictReader(file)\n",
    "    for row in reader:\n",
    "        student_count += 1\n",
    "        subject_totals['chinese'] += float(row['chinese'])\n",
    "        subject_totals['math'] += float(row['math'])\n",
    "        subject_totals['english'] += float(row['english'])\n",
    "\n",
    "if student_count == 0:\n",
    "    print(\"没有学生数据\")\n",
    "else:\n",
    "    averages = {subject: total / student_count for subject, total in subject_totals.items()}\n",
    "    formatted_averages = {subject: f\"{average:.2f}\" for subject, average in averages.items()}\n",
    "    print(\"各科平均成绩如下：\")\n",
    "    for subject, average in formatted_averages.items():\n",
    "        print(f\"{subject.capitalize()}: {average}\")"
   ]
  },
  {
   "cell_type": "markdown",
   "metadata": {},
   "source": [
    "8.请在第7题的代码继续编写Python程序，将以下内容写入my.txt文件中，一并上传到github中。\n",
    "\n",
    "第1行：你的学号和姓名\n",
    "\n",
    "第2行：3门课程的平均成绩（任意课程），保留2位小数，以英文逗号间隔\n",
    "\n",
    "第3行：系统当前时间，格式例如2020-01-01 12:00:00\n",
    "\n",
    "第4行：两秒后的系统当前时间（利用sleep()方法）"
   ]
  },
  {
   "cell_type": "code",
   "execution_count": 11,
   "metadata": {},
   "outputs": [
    {
     "name": "stdout",
     "output_type": "stream",
     "text": [
      "已成功写入 E:/大学学习/大二上/导论/作业/my.txt\n"
     ]
    }
   ],
   "source": [
    "import csv\n",
    "from datetime import datetime, timedelta\n",
    "import time\n",
    "\n",
    "grades_file_path = 'D:/stuGrade.csv'\n",
    "output_file_path = 'E:/大学学习/大二上/导论/作业/my.txt'\n",
    "subject_totals = {'chinese': 0, 'math': 0, 'english': 0}\n",
    "student_count = 0\n",
    "\n",
    "with open(grades_file_path, mode='r', encoding='utf-8') as file:\n",
    "    reader = csv.DictReader(file)\n",
    "    for row in reader:\n",
    "        student_count += 1\n",
    "        subject_totals['chinese'] += float(row['chinese'])\n",
    "        subject_totals['math'] += float(row['math'])\n",
    "        subject_totals['english'] += float(row['english'])\n",
    "\n",
    "if student_count == 0:\n",
    "    print(\"没有学生数据\")\n",
    "else:\n",
    "    averages = {subject: total / student_count for subject, total in subject_totals.items()}\n",
    "    formatted_averages = [f\"{average:.2f}\" for average in averages.values()]\n",
    "    now = datetime.now()\n",
    "    two_seconds_later = now + timedelta(seconds=2)\n",
    "    student_id_name = \"10224507036,秦兆雨\"\n",
    "    with open(output_file_path, 'w', encoding='utf-8') as output_file:\n",
    "        output_file.write(f\"{student_id_name}\\n\")\n",
    "        output_file.write(','.join(formatted_averages) + \"\\n\")\n",
    "        output_file.write(now.strftime(\"%Y-%m-%d %H:%M:%S\") + \"\\n\")\n",
    "        time.sleep(2)\n",
    "        output_file.write(two_seconds_later.strftime(\"%Y-%m-%d %H:%M:%S\"))\n",
    "    print(f\"已成功写入 {output_file_path}\")"
   ]
  }
 ],
 "metadata": {
  "kernelspec": {
   "display_name": "Python 3",
   "language": "python",
   "name": "python3"
  },
  "language_info": {
   "codemirror_mode": {
    "name": "ipython",
    "version": 3
   },
   "file_extension": ".py",
   "mimetype": "text/x-python",
   "name": "python",
   "nbconvert_exporter": "python",
   "pygments_lexer": "ipython3",
   "version": "3.9.6"
  }
 },
 "nbformat": 4,
 "nbformat_minor": 2
}
